{
 "cells": [
  {
   "attachments": {},
   "cell_type": "markdown",
   "metadata": {},
   "source": [
    "## Area of simple quadrilaterals using their unique formulae\n",
    "\n",
    "First, we will find the areas of quadrilaterals using their unique area formulae which only work for that particular figure. But before that, we need to run a few things to get things started. So, run the code below to get everything started. Another thing to remember is, to run the code to find the answer, enter the corresponding number in the code when asked for what is known."
   ]
  },
  {
   "cell_type": "code",
   "execution_count": null,
   "metadata": {},
   "outputs": [],
   "source": [
    "import math\n",
    "def sin(A): \n",
    "    return math.sin(math.radians(A))\n",
    "def cos(A): \n",
    "    return sin(90-A)\n",
    "def costoang(A): \n",
    "    return math.degrees(math.acos(A))\n",
    "#remember to round the number while outputting this"
   ]
  },
  {
   "attachments": {},
   "cell_type": "markdown",
   "metadata": {},
   "source": [
    "\n",
    "#### Square\n",
    "\n",
    "Let us begin with the simplest of quadrilaterals, i.e. a square. There are many different ways to find the area of a square which depend upon what all values are known. Some of them are:\n",
    "1. If the length of a side are known.\n",
    "2. If the length of a diagonal are known.\n",
    "3. If one of the sides is the diametre of a circle, where the circle's area are known.\n",
    "4. If one of the diagonals is the diametre of a circle, where the circle's area are known (This is the circle circumscribing the square).\n",
    "5. If the length of a line segment from a vertex to the midpoint of an opposite side are known.\n",
    "6. The area of a rectangle, whose perimeter is equal to that of the square and one of the rectangle's sides are known."
   ]
  },
  {
   "cell_type": "code",
   "execution_count": null,
   "metadata": {},
   "outputs": [],
   "source": [
    "#area of square\n",
    "typ=int(input(\"What values are known? \"))\n",
    "def cirdtosq(circlearea,ds):\n",
    "    #Circle area to square where diameter is side of a square\n",
    "    #The ds input is for asking if it is diagonal or side of a square\n",
    "    #In \"ds\", 1 is for side and 2 for diagonal\n",
    "    pieval=int(input(\"Which value of pi? 3.14 or 22/7? Press 1 or 2 respectively. \"))\n",
    "    if pieval==1:\n",
    "        pie=3.14\n",
    "    elif pieval==2:\n",
    "        pie=22/7\n",
    "    else:\n",
    "        print(\"Try again.\")\n",
    "    dsq=circlearea/pie\n",
    "    if ds==1:\n",
    "        ar=dsq\n",
    "    elif ds==2:\n",
    "        ar=dsq/2\n",
    "    else:\n",
    "        print(\"Try again.\")\n",
    "    return ar\n",
    "if typ==1:\n",
    "    side=float(input(\"Side=\"))\n",
    "    area1=side*side\n",
    "elif typ==2:\n",
    "    dia=float(input(\"Length of diagonal=\"))\n",
    "    area1=dia*dia/2\n",
    "elif typ==3:\n",
    "    cirarea=float(input(\"Area of circle=\"))\n",
    "    area1=cirdtosq(cirarea,1)\n",
    "elif typ==4:\n",
    "    cirarea=float(input(\"Area of circle=\"))\n",
    "    area1=cirdtosq(cirarea,2)\n",
    "elif typ==5:\n",
    "    leng=float(input(\"Length of the line segment=\"))\n",
    "    area1=(2*leng/(5**(1/2)))**2\n",
    "elif typ==6:\n",
    "    recarea=float(input(\"Area of the rectangle=\"))\n",
    "    recside=float(input(\"Length of one of the sides=\"))\n",
    "    recside2=recarea/recside\n",
    "    recpm=2*(recside+recside2)\n",
    "    area1=(recpm/4)**2\n",
    "else:\n",
    "    print(\"Try again.\")\n",
    "print(\"The area of the square is\",round(area1,2),\"sq. units.\")"
   ]
  },
  {
   "attachments": {},
   "cell_type": "markdown",
   "metadata": {},
   "source": [
    "#### Rectangle\n",
    "\n",
    "Now we move on to a rectangle. Here, the possible ways to find the area of the rectangle are:\n",
    "1. If the length of a side and it's adjacent side are known.\n",
    "2. If the length of a side and a diagonal are known\n",
    "3. If the length of the diagonal and the ratio of adjacent sides are known.\n",
    "4. If the length of a side and the ratio of adjacent sides are known\n",
    "5. If the area of a square, which has the same perimetre as the rectangle and one of the sides of the rectangle are known.\n",
    "6. If the perimetre of a square/rhombus, which has the same perimetre as the rectangle and one of the sides of the rectangle are known."
   ]
  },
  {
   "cell_type": "code",
   "execution_count": null,
   "metadata": {},
   "outputs": [],
   "source": [
    "#area of rectangle\n",
    "typrec=int(input(\"What values are known? \"))\n",
    "if typrec==1:\n",
    "    side1=float(input(\"Length of a side=\"))\n",
    "    side2=float(input(\"Length of it's adjacent side=\"))\n",
    "elif typrec==2:\n",
    "    side1=float(input(\"Length of a side=\"))\n",
    "    diag=float(input(\"Length of the diagonal=\"))\n",
    "    side2=((diag**2)-(side1**2))**(1/2)\n",
    "elif typrec==3:\n",
    "    diag=float(input(\"Length of the diagonal=\"))\n",
    "    a_rec=int(input(\"If the ratio of the sides is a:b, a=\"))\n",
    "    b_rec=int(input(\"b=\"))\n",
    "    coeff=((diag**2)/((a_rec**2)+(b_rec**2)))**(1/2)\n",
    "    side1=a_rec*coeff\n",
    "    side2=b_rec*coeff\n",
    "elif typrec==4:\n",
    "    side1=float(input(\"Length of a side=\"))\n",
    "    a_rec=int(input(\"If the ratio of the sides is a:b (a is the ration side who's length is known), a=\"))\n",
    "    b_rec=int(input(\"b=\"))\n",
    "    coeff=side1/a_rec\n",
    "    side2=b_rec*coeff\n",
    "elif typrec==5:\n",
    "    side1=float(input(\"Length of a side=\"))\n",
    "    sqarea=float(input(\"Area of the square=\"))\n",
    "    sqpm=4*(sqarea**(1/2))\n",
    "    side2=(sqpm/2)-side1\n",
    "elif typrec==6:\n",
    "    side1=float(input(\"Length of a side=\"))\n",
    "    sqpm=float(input(\"Perimetre of the square/rhombus=\"))\n",
    "    side2=(sqpm/2)-side1\n",
    "else:\n",
    "    print(\"Try again.\")\n",
    "area2=side1*side2\n",
    "print(\"The area of the rectangle is\",round(area2,2),\"sq. units.\")"
   ]
  },
  {
   "attachments": {},
   "cell_type": "markdown",
   "metadata": {},
   "source": [
    "#### Parallelogram\n",
    "\n",
    "We move on to the Parallelogram, where the options for finding it's areas are:\n",
    "1. If length of a side and the height perpendicular to it are known.\n",
    "2. If two adjacent sides and one angle are known.\n",
    "3. If one side, one angle and the ratio of the unknown side and the height perpendicular to the unknown side is known."
   ]
  },
  {
   "cell_type": "code",
   "execution_count": null,
   "metadata": {},
   "outputs": [],
   "source": [
    "#area of parallelogram\n",
    "typar=int(input(\"What values are known? \"))\n",
    "par=float(input(\"Length of a side=\"))\n",
    "if typar==1:\n",
    "    height=float(input(\"Height of the figure, perpendicular to the known side=\"))\n",
    "    area3=par*height\n",
    "elif typar==2:\n",
    "    par2=float(input(\"Length of the adjacent side=\"))\n",
    "    ang=float(input(\"Measure of the smaller angle (less than or equal to 90)=\"))\n",
    "    height=par2*sin(ang)\n",
    "    area3=par*height\n",
    "elif typar==3:\n",
    "    ang=float(input(\"Measure of the smaller angle (less than or equal to 90)=\"))\n",
    "    par2r=int(input(\"If the ratio of the unknown side to the height perpendicular to it is a:b where a is the side raion, a=\"))\n",
    "    h2r=int(input(\"b=\"))\n",
    "    height=par*sin(ang)\n",
    "    coeff=height/h2r\n",
    "    par2=par2r*coeff\n",
    "    area3=par2*height\n",
    "else:\n",
    "    print(\"Try again.\")\n",
    "print(\"The area of the parallelogram is\",round(area3,2),\"sq. units.\")"
   ]
  },
  {
   "attachments": {},
   "cell_type": "markdown",
   "metadata": {},
   "source": [
    "#### Rhombus\n",
    "\n",
    "The area of a rhombus can be found in three different ways. They are:\n",
    "1. If the lengths of both the diagonals are known.\n",
    "2. If the length of a side and a perpendicular height to it is known.\n",
    "3. If the length of a side and an angle is known.\n",
    "4. If the length of a side and a diagonal is known."
   ]
  },
  {
   "cell_type": "code",
   "execution_count": null,
   "metadata": {},
   "outputs": [],
   "source": [
    "#area of rhombus\n",
    "typd=int(input(\"What values are known? \"))\n",
    "if typd==1:\n",
    "    di=float(input(\"Length of a diagonal=\"))\n",
    "    di2=float(input(\"Length of the other diagonal=\"))\n",
    "    area4=di*di2/2\n",
    "elif typd==2:\n",
    "    si=float(input(\"Length of the side=\"))\n",
    "    hei=float(input(\"Length of the perpendicular height to a side=\"))\n",
    "    area4=si*hei\n",
    "elif typd==3:\n",
    "    si=float(input(\"Length of the side=\"))\n",
    "    an=float(input(\"Measure of an angle=\"))\n",
    "    area4=si*si*sin(an)\n",
    "elif typd==4:\n",
    "    si=float(input(\"Length of the side=\"))\n",
    "    di=float(input(\"Length of a diagonal=\"))\n",
    "    halfangle=costoang(di/(2*si))\n",
    "    hdi2=si*sin(halfangle)\n",
    "    area4=di*hdi2\n",
    "else:\n",
    "    print(\"Try again.\")\n",
    "print(\"The area of the rhombus is\",round(area4,2),\"square units.\")"
   ]
  },
  {
   "attachments": {},
   "cell_type": "markdown",
   "metadata": {},
   "source": [
    "#### Trapezium\n",
    "\n",
    "The ways to calculate the area of a trapezium are dependent on the following information:\n",
    "1. If the perpendicular height to the parallel sides of the trapezium is known, and the lengths of the two parallel sides are known (or their sum is known).\n",
    "2. If the non-parallel sides are equal and the lengths of those and the parallel sides are known."
   ]
  },
  {
   "cell_type": "code",
   "execution_count": null,
   "metadata": {},
   "outputs": [],
   "source": [
    "#area of trapezium\n",
    "typtr=int(input(\"What values are known? \"))\n",
    "if typtr==1:\n",
    "    trheight=float(input(\"Height=\"))\n",
    "    sumorlength=int(input(\"Is the sum of the lengths of the parallel sides known, or the values? Press 0 or 1 respectively. \"))\n",
    "    if sumorlength==0:\n",
    "        parallelsum=float(input(\"Sum of the lengths of the parallel sides=\"))\n",
    "    elif sumorlength==1:\n",
    "        parallel1=float(input(\"Length of one of the parallel sides=\"))\n",
    "        parallel2=float(input(\"Length of the other parallel side=\"))\n",
    "        parallelsum=parallel1+parallel2\n",
    "    else:\n",
    "        print(\"Please enter 0 or 1 only.\")\n",
    "elif typtr==2:\n",
    "    nonparallel=float(input(\"Length of the non-parallel sides (opposite sides equal in length)=\"))\n",
    "    parallel1=float(input(\"Length of the longer parallel side=\"))\n",
    "    parallel2=float(input(\"Length of the shorter parallel side=\"))\n",
    "    paralleldiff=parallel1-parallel2\n",
    "    baseangle=costoang((paralleldiff/2)/nonparallel)\n",
    "    trheight=sin(baseangle)*nonparallel\n",
    "    parallelsum=parallel1+parallel2\n",
    "else:\n",
    "    print(\"Try again.\")\n",
    "area5=trheight*parallelsum/2\n",
    "print(\"The area of the trapezium is\",area5,\"sq. units.\")"
   ]
  },
  {
   "attachments": {},
   "cell_type": "markdown",
   "metadata": {},
   "source": [
    "## Area of a Quadrilateral using Trigonometry\n",
    "\n",
    "For any quadrilateral ABCD, we can find the area of the quadrilateral if the side lengths and two opposite angle measures are known. Let those opposite angles be A and C. Enter the values of the coefficients accordingly.  \n",
    "Sample Figure:  \n",
    "![ABCD](https://i.imgur.com/bch7Pfg.png)  \n",
    "You can test it for the above figure. By measurement, the approximate area is **3.4**. The code will give the answer as approximate **3.41**."
   ]
  },
  {
   "cell_type": "code",
   "execution_count": null,
   "metadata": {},
   "outputs": [],
   "source": [
    "#area of quadriateral using trigonometry\n",
    "a=float(input(\"AB=\"))\n",
    "b=float(input(\"BC=\"))\n",
    "c=float(input(\"CD=\"))\n",
    "d=float(input(\"DA=\"))\n",
    "A=float(input(\"Angle A=\"))\n",
    "C=float(input(\"Angle C=\"))\n",
    "alpha=(A+C)/2\n",
    "cos2alpha=cos(alpha)**2\n",
    "s=(a+b+c+d)/2\n",
    "areasquare=((s-a)*(s-b)*(s-c)*(s-d))-(a*b*c*d*cos2alpha)\n",
    "area=round(math.sqrt(areasquare),2)\n",
    "print(\"The area is\",area)"
   ]
  }
 ],
 "metadata": {
  "kernelspec": {
   "display_name": "Python 3",
   "language": "python",
   "name": "python3"
  },
  "language_info": {
   "codemirror_mode": {
    "name": "ipython",
    "version": 3
   },
   "file_extension": ".py",
   "mimetype": "text/x-python",
   "name": "python",
   "nbconvert_exporter": "python",
   "pygments_lexer": "ipython3",
   "version": "3.11.2"
  },
  "orig_nbformat": 4
 },
 "nbformat": 4,
 "nbformat_minor": 2
}
